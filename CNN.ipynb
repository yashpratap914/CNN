{
 "cells": [
  {
   "cell_type": "code",
   "execution_count": 17,
   "id": "9e11863f",
   "metadata": {},
   "outputs": [],
   "source": [
    "import numpy as np\n",
    "import matplotlib.pyplot as plt\n",
    "%matplotlib inline"
   ]
  },
  {
   "cell_type": "code",
   "execution_count": 18,
   "id": "560a78b7",
   "metadata": {},
   "outputs": [],
   "source": [
    "import keras\n",
    "import tensorflow as tf\n",
    "from tensorflow import keras\n",
    "from keras.models import Sequential\n",
    "from tensorflow.keras.layers import Input, Conv2D, Dense, Flatten, Dropout\n",
    "from tensorflow.keras.layers import GlobalMaxPooling2D, MaxPooling2D\n",
    "from tensorflow.keras.layers import BatchNormalization\n",
    "from tensorflow.keras.models import Model\n",
    "from tensorflow.keras import regularizers, optimizers\n",
    "from tensorflow.keras.utils import to_categorical"
   ]
  },
  {
   "cell_type": "code",
   "execution_count": 19,
   "id": "551178fc",
   "metadata": {},
   "outputs": [],
   "source": [
    "from sklearn.metrics import accuracy_score"
   ]
  },
  {
   "cell_type": "code",
   "execution_count": 20,
   "id": "c8f87453",
   "metadata": {},
   "outputs": [],
   "source": [
    "from tensorflow.keras.datasets import cifar10"
   ]
  },
  {
   "cell_type": "code",
   "execution_count": 21,
   "id": "e5e5b5cf",
   "metadata": {},
   "outputs": [],
   "source": [
    "(x_train, y_train), (x_test, y_test) = cifar10.load_data()"
   ]
  },
  {
   "cell_type": "code",
   "execution_count": 22,
   "id": "59239a61",
   "metadata": {},
   "outputs": [
    {
     "data": {
      "text/plain": [
       "<matplotlib.image.AxesImage at 0x1d08a6e7b80>"
      ]
     },
     "execution_count": 22,
     "metadata": {},
     "output_type": "execute_result"
    },
    {
     "data": {
      "image/png": "[encoded data removed]",
      "text/plain": [
       "<Figure size 640x480 with 1 Axes>"
      ]
     },
     "metadata": {},
     "output_type": "display_data"
    }
   ],
   "source": [
    "plt.imshow(x_train[0])"
   ]
  },
  {
   "cell_type": "code",
   "execution_count": 23,
   "id": "6d055063",
   "metadata": {},
   "outputs": [
    {
     "data": {
      "text/plain": [
       "<matplotlib.image.AxesImage at 0x1d08a721700>"
      ]
     },
     "execution_count": 23,
     "metadata": {},
     "output_type": "execute_result"
    },
    {
     "data": {
      "image/png": "[encoded data removed]",
      "text/plain": [
       "<Figure size 640x480 with 1 Axes>"
      ]
     },
     "metadata": {},
     "output_type": "display_data"
    }
   ],
   "source": [
    "plt.imshow(x_train[5])"
   ]
  },
  {
   "cell_type": "code",
   "execution_count": 24,
   "id": "c8d0c271",
   "metadata": {},
   "outputs": [
    {
     "data": {
      "text/plain": [
       "array([[[154, 177, 187],\n",
       "        [126, 137, 136],\n",
       "        [105, 104,  95],\n",
       "        ...,\n",
       "        [ 91,  95,  71],\n",
       "        [ 87,  90,  71],\n",
       "        [ 79,  81,  70]],\n",
       "\n",
       "       [[140, 160, 169],\n",
       "        [145, 153, 154],\n",
       "        [125, 125, 118],\n",
       "        ...,\n",
       "        [ 96,  99,  78],\n",
       "        [ 77,  80,  62],\n",
       "        [ 71,  73,  61]],\n",
       "\n",
       "       [[140, 155, 164],\n",
       "        [139, 146, 149],\n",
       "        [115, 115, 112],\n",
       "        ...,\n",
       "        [ 79,  82,  64],\n",
       "        [ 68,  70,  55],\n",
       "        [ 67,  69,  55]],\n",
       "\n",
       "       ...,\n",
       "\n",
       "       [[175, 167, 166],\n",
       "        [156, 154, 160],\n",
       "        [154, 160, 170],\n",
       "        ...,\n",
       "        [ 42,  34,  36],\n",
       "        [ 61,  53,  57],\n",
       "        [ 93,  83,  91]],\n",
       "\n",
       "       [[165, 154, 128],\n",
       "        [156, 152, 130],\n",
       "        [159, 161, 142],\n",
       "        ...,\n",
       "        [103,  93,  96],\n",
       "        [123, 114, 120],\n",
       "        [131, 121, 131]],\n",
       "\n",
       "       [[163, 148, 120],\n",
       "        [158, 148, 122],\n",
       "        [163, 156, 133],\n",
       "        ...,\n",
       "        [143, 133, 139],\n",
       "        [143, 134, 142],\n",
       "        [143, 133, 144]]], dtype=uint8)"
      ]
     },
     "execution_count": 24,
     "metadata": {},
     "output_type": "execute_result"
    }
   ],
   "source": [
    "x_train[1]"
   ]
  },
  {
   "cell_type": "code",
   "execution_count": 25,
   "id": "d9b32d26",
   "metadata": {},
   "outputs": [],
   "source": [
    "x_train=x_train/255\n",
    "x_test=x_test/255"
   ]
  },
  {
   "cell_type": "code",
   "execution_count": 26,
   "id": "b9070725",
   "metadata": {},
   "outputs": [],
   "source": [
    "y_train_en = to_categorical(y_train, 10)"
   ]
  },
  {
   "cell_type": "code",
   "execution_count": 27,
   "id": "13965560",
   "metadata": {},
   "outputs": [],
   "source": [
    "y_test_en = to_categorical(y_test, 10)"
   ]
  },
  {
   "cell_type": "code",
   "execution_count": 31,
   "id": "74059c29",
   "metadata": {},
   "outputs": [],
   "source": [
    "model = Sequential()\n",
    "model.add(Conv2D(32,(4,4), input_shape=(32,32,3), activation='relu'))\n",
    "model.add(MaxPooling2D(pool_size=(2,2)))\n",
    "model.add(Conv2D(32,(4,4), input_shape=(32,32,3), activation='relu'))\n",
    "model.add(MaxPooling2D(pool_size=(2,2)))\n",
    "\n",
    "model.add(Flatten())\n",
    "\n",
    "model.add(Dense(128, activation ='relu'))\n",
    "model.add(Dense(10, activation ='softmax'))\n",
    "\n",
    "model.compile(loss='categorical_crossentropy', optimizer='adam', metrics=['accuracy'])"
   ]
  },
  {
   "cell_type": "code",
   "execution_count": 32,
   "id": "55e57f80",
   "metadata": {},
   "outputs": [
    {
     "name": "stdout",
     "output_type": "stream",
     "text": [
      "Model: \"sequential_4\"\n",
      "_________________________________________________________________\n",
      " Layer (type)                Output Shape              Param #   \n",
      "=================================================================\n",
      " conv2d_4 (Conv2D)           (None, 29, 29, 32)        1568      \n",
      "                                                                 \n",
      " max_pooling2d_3 (MaxPoolin  (None, 14, 14, 32)        0         \n",
      " g2D)                                                            \n",
      "                                                                 \n",
      " conv2d_5 (Conv2D)           (None, 11, 11, 32)        16416     \n",
      "                                                                 \n",
      " max_pooling2d_4 (MaxPoolin  (None, 5, 5, 32)          0         \n",
      " g2D)                                                            \n",
      "                                                                 \n",
      " flatten_1 (Flatten)         (None, 800)               0         \n",
      "                                                                 \n",
      " dense_2 (Dense)             (None, 128)               102528    \n",
      "                                                                 \n",
      " dense_3 (Dense)             (None, 10)                1290      \n",
      "                                                                 \n",
      "=================================================================\n",
      "Total params: 121802 (475.79 KB)\n",
      "Trainable params: 121802 (475.79 KB)\n",
      "Non-trainable params: 0 (0.00 Byte)\n",
      "_________________________________________________________________\n"
     ]
    }
   ],
   "source": [
    "model.summary()"
   ]
  },
  {
   "cell_type": "code",
   "execution_count": 33,
   "id": "de8ded65",
   "metadata": {},
   "outputs": [
    {
     "name": "stdout",
     "output_type": "stream",
     "text": [
      "Epoch 1/20\n",
      "1563/1563 [==============================] - 30s 18ms/step - loss: 1.5385 - accuracy: 0.4414 - val_loss: 1.3125 - val_accuracy: 0.5316\n",
      "Epoch 2/20\n",
      "1563/1563 [==============================] - 29s 18ms/step - loss: 1.2338 - accuracy: 0.5629 - val_loss: 1.1558 - val_accuracy: 0.5886\n",
      "Epoch 3/20\n",
      "1563/1563 [==============================] - 29s 19ms/step - loss: 1.0974 - accuracy: 0.6151 - val_loss: 1.0858 - val_accuracy: 0.6211\n",
      "Epoch 4/20\n",
      "1563/1563 [==============================] - 28s 18ms/step - loss: 1.0132 - accuracy: 0.6465 - val_loss: 1.0295 - val_accuracy: 0.6383\n",
      "Epoch 5/20\n",
      "1563/1563 [==============================] - 28s 18ms/step - loss: 0.9425 - accuracy: 0.6718 - val_loss: 1.0302 - val_accuracy: 0.6406\n",
      "Epoch 6/20\n",
      "1563/1563 [==============================] - 27s 18ms/step - loss: 0.8830 - accuracy: 0.6922 - val_loss: 0.9744 - val_accuracy: 0.6656\n",
      "Epoch 7/20\n",
      "1563/1563 [==============================] - 27s 18ms/step - loss: 0.8315 - accuracy: 0.7092 - val_loss: 1.0133 - val_accuracy: 0.6528\n",
      "Epoch 8/20\n",
      "1563/1563 [==============================] - 27s 18ms/step - loss: 0.7824 - accuracy: 0.7261 - val_loss: 0.9880 - val_accuracy: 0.6626\n",
      "Epoch 9/20\n",
      "1563/1563 [==============================] - 27s 18ms/step - loss: 0.7445 - accuracy: 0.7395 - val_loss: 0.9897 - val_accuracy: 0.6712\n",
      "Epoch 10/20\n",
      "1563/1563 [==============================] - 27s 18ms/step - loss: 0.7043 - accuracy: 0.7535 - val_loss: 0.9743 - val_accuracy: 0.6747\n",
      "Epoch 11/20\n",
      "1563/1563 [==============================] - 27s 18ms/step - loss: 0.6723 - accuracy: 0.7634 - val_loss: 1.0031 - val_accuracy: 0.6737\n",
      "Epoch 12/20\n",
      "1563/1563 [==============================] - 27s 18ms/step - loss: 0.6388 - accuracy: 0.7755 - val_loss: 1.0164 - val_accuracy: 0.6668\n",
      "Epoch 13/20\n",
      "1563/1563 [==============================] - 28s 18ms/step - loss: 0.6068 - accuracy: 0.7869 - val_loss: 1.0462 - val_accuracy: 0.6666\n",
      "Epoch 14/20\n",
      "1563/1563 [==============================] - 28s 18ms/step - loss: 0.5803 - accuracy: 0.7931 - val_loss: 1.0562 - val_accuracy: 0.6665\n",
      "Epoch 15/20\n",
      "1563/1563 [==============================] - 27s 18ms/step - loss: 0.5501 - accuracy: 0.8033 - val_loss: 1.0772 - val_accuracy: 0.6704\n",
      "Epoch 16/20\n",
      "1563/1563 [==============================] - 28s 18ms/step - loss: 0.5218 - accuracy: 0.8148 - val_loss: 1.1369 - val_accuracy: 0.6613\n",
      "Epoch 17/20\n",
      "1563/1563 [==============================] - 27s 18ms/step - loss: 0.4971 - accuracy: 0.8236 - val_loss: 1.1547 - val_accuracy: 0.6682\n",
      "Epoch 18/20\n",
      "1563/1563 [==============================] - 28s 18ms/step - loss: 0.4751 - accuracy: 0.8322 - val_loss: 1.2307 - val_accuracy: 0.6519\n",
      "Epoch 19/20\n",
      "1563/1563 [==============================] - 28s 18ms/step - loss: 0.4504 - accuracy: 0.8399 - val_loss: 1.2163 - val_accuracy: 0.6652\n",
      "Epoch 20/20\n",
      "1563/1563 [==============================] - 28s 18ms/step - loss: 0.4305 - accuracy: 0.8459 - val_loss: 1.2299 - val_accuracy: 0.6644\n"
     ]
    }
   ],
   "source": [
    "history = model.fit(x_train, y_train_en, epochs=20, verbose=1, validation_data=(x_test, y_test_en) )"
   ]
  },
  {
   "cell_type": "code",
   "execution_count": null,
   "id": "71975d8b",
   "metadata": {},
   "outputs": [],
   "source": []
  }
 ],
 "metadata": {
  "kernelspec": {
   "display_name": "Python 3 (ipykernel)",
   "language": "python",
   "name": "python3"
  },
  "language_info": {
   "codemirror_mode": {
    "name": "ipython",
    "version": 3
   },
   "file_extension": ".py",
   "mimetype": "text/x-python",
   "name": "python",
   "nbconvert_exporter": "python",
   "pygments_lexer": "ipython3",
   "version": "3.9.13"
  }
 },
 "nbformat": 4,
 "nbformat_minor": 5
}
